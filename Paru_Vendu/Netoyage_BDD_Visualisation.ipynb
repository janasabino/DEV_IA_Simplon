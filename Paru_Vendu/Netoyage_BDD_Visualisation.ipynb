{
 "cells": [
  {
   "cell_type": "code",
   "execution_count": 38,
   "id": "a4a1e18d",
   "metadata": {},
   "outputs": [],
   "source": [
    "import pandas as pd\n",
    "import numpy as np"
   ]
  },
  {
   "cell_type": "code",
   "execution_count": 39,
   "id": "1586a96c",
   "metadata": {},
   "outputs": [],
   "source": [
    "bdd = pd.read_csv('paruvendu_bdd.csv')  "
   ]
  },
  {
   "cell_type": "code",
   "execution_count": 40,
   "id": "0b3d840a",
   "metadata": {},
   "outputs": [
    {
     "data": {
      "text/html": [
       "<div>\n",
       "<style scoped>\n",
       "    .dataframe tbody tr th:only-of-type {\n",
       "        vertical-align: middle;\n",
       "    }\n",
       "\n",
       "    .dataframe tbody tr th {\n",
       "        vertical-align: top;\n",
       "    }\n",
       "\n",
       "    .dataframe thead th {\n",
       "        text-align: right;\n",
       "    }\n",
       "</style>\n",
       "<table border=\"1\" class=\"dataframe\">\n",
       "  <thead>\n",
       "    <tr style=\"text-align: right;\">\n",
       "      <th></th>\n",
       "      <th>Unnamed: 0</th>\n",
       "      <th>Bien</th>\n",
       "      <th>Pieces</th>\n",
       "      <th>Taille</th>\n",
       "      <th>Prix</th>\n",
       "      <th>Ville</th>\n",
       "      <th>Code_Postal</th>\n",
       "      <th>Annonceur</th>\n",
       "      <th>Description</th>\n",
       "    </tr>\n",
       "  </thead>\n",
       "  <tbody>\n",
       "    <tr>\n",
       "      <th>0</th>\n",
       "      <td>0</td>\n",
       "      <td>Appartement</td>\n",
       "      <td>1.0</td>\n",
       "      <td>35.0</td>\n",
       "      <td>260 000</td>\n",
       "      <td>Alfortville</td>\n",
       "      <td>94140.0</td>\n",
       "      <td>Professionnel</td>\n",
       "      <td>Superbe studio spacieux et fonctionnel hyper c...</td>\n",
       "    </tr>\n",
       "    <tr>\n",
       "      <th>1</th>\n",
       "      <td>1</td>\n",
       "      <td>Maison</td>\n",
       "      <td>3.0</td>\n",
       "      <td>66.0</td>\n",
       "      <td>140 000</td>\n",
       "      <td>Beton-Bazoches</td>\n",
       "      <td>77320.0</td>\n",
       "      <td>Professionnel</td>\n",
       "      <td>Maison familiale 3 pièces avec cheminée. maiso...</td>\n",
       "    </tr>\n",
       "    <tr>\n",
       "      <th>2</th>\n",
       "      <td>2</td>\n",
       "      <td>Maison</td>\n",
       "      <td>4.0</td>\n",
       "      <td>179.0</td>\n",
       "      <td>222 000</td>\n",
       "      <td>La Ferté-sous-Jouarre</td>\n",
       "      <td>77260.0</td>\n",
       "      <td>Professionnel</td>\n",
       "      <td>Atypique maison briarde, logement à l'étage av...</td>\n",
       "    </tr>\n",
       "    <tr>\n",
       "      <th>3</th>\n",
       "      <td>3</td>\n",
       "      <td>Appartement</td>\n",
       "      <td>3.0</td>\n",
       "      <td>70.0</td>\n",
       "      <td>475 000</td>\n",
       "      <td>Bezons</td>\n",
       "      <td>95870.0</td>\n",
       "      <td>Professionnel</td>\n",
       "      <td>Appartement 3 pièces. appartement t3 récent de...</td>\n",
       "    </tr>\n",
       "    <tr>\n",
       "      <th>4</th>\n",
       "      <td>4</td>\n",
       "      <td>Maison</td>\n",
       "      <td>7.0</td>\n",
       "      <td>185.0</td>\n",
       "      <td>1 200 000</td>\n",
       "      <td>La Celle-Saint-Cloud</td>\n",
       "      <td>78170.0</td>\n",
       "      <td>Professionnel</td>\n",
       "      <td>Maison la celle saint cloud 7 pièce(s) 185 m2....</td>\n",
       "    </tr>\n",
       "  </tbody>\n",
       "</table>\n",
       "</div>"
      ],
      "text/plain": [
       "   Unnamed: 0         Bien  Pieces  Taille        Prix                  Ville  \\\n",
       "0           0  Appartement     1.0    35.0    260 000             Alfortville   \n",
       "1           1       Maison     3.0    66.0    140 000          Beton-Bazoches   \n",
       "2           2       Maison     4.0   179.0    222 000   La Ferté-sous-Jouarre   \n",
       "3           3  Appartement     3.0    70.0    475 000                  Bezons   \n",
       "4           4       Maison     7.0   185.0  1 200 000    La Celle-Saint-Cloud   \n",
       "\n",
       "   Code_Postal      Annonceur  \\\n",
       "0      94140.0  Professionnel   \n",
       "1      77320.0  Professionnel   \n",
       "2      77260.0  Professionnel   \n",
       "3      95870.0  Professionnel   \n",
       "4      78170.0  Professionnel   \n",
       "\n",
       "                                         Description  \n",
       "0  Superbe studio spacieux et fonctionnel hyper c...  \n",
       "1  Maison familiale 3 pièces avec cheminée. maiso...  \n",
       "2  Atypique maison briarde, logement à l'étage av...  \n",
       "3  Appartement 3 pièces. appartement t3 récent de...  \n",
       "4  Maison la celle saint cloud 7 pièce(s) 185 m2....  "
      ]
     },
     "execution_count": 40,
     "metadata": {},
     "output_type": "execute_result"
    }
   ],
   "source": [
    "bdd.head()"
   ]
  },
  {
   "cell_type": "code",
   "execution_count": 41,
   "id": "3f443902",
   "metadata": {},
   "outputs": [
    {
     "data": {
      "text/plain": [
       "(12500, 9)"
      ]
     },
     "execution_count": 41,
     "metadata": {},
     "output_type": "execute_result"
    }
   ],
   "source": [
    "# Nombre de lignes et de colonnes du DataFrame\n",
    "bdd.shape"
   ]
  },
  {
   "cell_type": "code",
   "execution_count": 42,
   "id": "db8f3a47",
   "metadata": {},
   "outputs": [
    {
     "data": {
      "text/plain": [
       "RangeIndex(start=0, stop=12500, step=1)"
      ]
     },
     "execution_count": 42,
     "metadata": {},
     "output_type": "execute_result"
    }
   ],
   "source": [
    "#Description du Index\n",
    "bdd.index"
   ]
  },
  {
   "cell_type": "code",
   "execution_count": 43,
   "id": "615d9231",
   "metadata": {},
   "outputs": [
    {
     "data": {
      "text/plain": [
       "Index(['Unnamed: 0', 'Bien', 'Pieces', 'Taille', 'Prix', 'Ville',\n",
       "       'Code_Postal', 'Annonceur', 'Description'],\n",
       "      dtype='object')"
      ]
     },
     "execution_count": 43,
     "metadata": {},
     "output_type": "execute_result"
    }
   ],
   "source": [
    "#Les colonnes du DataFrame\n",
    "bdd.columns"
   ]
  },
  {
   "cell_type": "code",
   "execution_count": 44,
   "id": "326328fa",
   "metadata": {},
   "outputs": [
    {
     "data": {
      "text/plain": [
       "Unnamed: 0     12500\n",
       "Bien           12500\n",
       "Pieces         12456\n",
       "Taille         12403\n",
       "Prix           12500\n",
       "Ville          11292\n",
       "Code_Postal    12498\n",
       "Annonceur      12500\n",
       "Description    12500\n",
       "dtype: int64"
      ]
     },
     "execution_count": 44,
     "metadata": {},
     "output_type": "execute_result"
    }
   ],
   "source": [
    "#Compte de données non nulles\n",
    "bdd.count()"
   ]
  },
  {
   "cell_type": "code",
   "execution_count": 45,
   "id": "ab9d0eb9",
   "metadata": {},
   "outputs": [
    {
     "data": {
      "text/html": [
       "<div>\n",
       "<style scoped>\n",
       "    .dataframe tbody tr th:only-of-type {\n",
       "        vertical-align: middle;\n",
       "    }\n",
       "\n",
       "    .dataframe tbody tr th {\n",
       "        vertical-align: top;\n",
       "    }\n",
       "\n",
       "    .dataframe thead th {\n",
       "        text-align: right;\n",
       "    }\n",
       "</style>\n",
       "<table border=\"1\" class=\"dataframe\">\n",
       "  <thead>\n",
       "    <tr style=\"text-align: right;\">\n",
       "      <th></th>\n",
       "      <th>Unnamed: 0</th>\n",
       "      <th>Pieces</th>\n",
       "      <th>Taille</th>\n",
       "      <th>Code_Postal</th>\n",
       "    </tr>\n",
       "  </thead>\n",
       "  <tbody>\n",
       "    <tr>\n",
       "      <th>count</th>\n",
       "      <td>12500.000000</td>\n",
       "      <td>12456.000000</td>\n",
       "      <td>12403.000000</td>\n",
       "      <td>12498.000000</td>\n",
       "    </tr>\n",
       "    <tr>\n",
       "      <th>mean</th>\n",
       "      <td>6749.460000</td>\n",
       "      <td>4.042710</td>\n",
       "      <td>94.476981</td>\n",
       "      <td>78796.633381</td>\n",
       "    </tr>\n",
       "    <tr>\n",
       "      <th>std</th>\n",
       "      <td>3897.270818</td>\n",
       "      <td>1.972335</td>\n",
       "      <td>68.385293</td>\n",
       "      <td>27285.818587</td>\n",
       "    </tr>\n",
       "    <tr>\n",
       "      <th>min</th>\n",
       "      <td>0.000000</td>\n",
       "      <td>1.000000</td>\n",
       "      <td>1.000000</td>\n",
       "      <td>1.000000</td>\n",
       "    </tr>\n",
       "    <tr>\n",
       "      <th>25%</th>\n",
       "      <td>3374.750000</td>\n",
       "      <td>3.000000</td>\n",
       "      <td>57.000000</td>\n",
       "      <td>77480.000000</td>\n",
       "    </tr>\n",
       "    <tr>\n",
       "      <th>50%</th>\n",
       "      <td>6749.500000</td>\n",
       "      <td>4.000000</td>\n",
       "      <td>79.000000</td>\n",
       "      <td>91330.000000</td>\n",
       "    </tr>\n",
       "    <tr>\n",
       "      <th>75%</th>\n",
       "      <td>10124.250000</td>\n",
       "      <td>5.000000</td>\n",
       "      <td>116.000000</td>\n",
       "      <td>93340.000000</td>\n",
       "    </tr>\n",
       "    <tr>\n",
       "      <th>max</th>\n",
       "      <td>13499.000000</td>\n",
       "      <td>14.000000</td>\n",
       "      <td>2200.000000</td>\n",
       "      <td>95880.000000</td>\n",
       "    </tr>\n",
       "  </tbody>\n",
       "</table>\n",
       "</div>"
      ],
      "text/plain": [
       "         Unnamed: 0        Pieces        Taille   Code_Postal\n",
       "count  12500.000000  12456.000000  12403.000000  12498.000000\n",
       "mean    6749.460000      4.042710     94.476981  78796.633381\n",
       "std     3897.270818      1.972335     68.385293  27285.818587\n",
       "min        0.000000      1.000000      1.000000      1.000000\n",
       "25%     3374.750000      3.000000     57.000000  77480.000000\n",
       "50%     6749.500000      4.000000     79.000000  91330.000000\n",
       "75%    10124.250000      5.000000    116.000000  93340.000000\n",
       "max    13499.000000     14.000000   2200.000000  95880.000000"
      ]
     },
     "execution_count": 45,
     "metadata": {},
     "output_type": "execute_result"
    }
   ],
   "source": [
    "#Statistique du DataFrame, com quartis, mediane, etc.\n",
    "bdd.describe()"
   ]
  },
  {
   "cell_type": "code",
   "execution_count": 46,
   "id": "82ee523b",
   "metadata": {},
   "outputs": [
    {
     "name": "stdout",
     "output_type": "stream",
     "text": [
      "<class 'pandas.core.frame.DataFrame'>\n",
      "RangeIndex: 12500 entries, 0 to 12499\n",
      "Data columns (total 9 columns):\n",
      " #   Column       Non-Null Count  Dtype  \n",
      "---  ------       --------------  -----  \n",
      " 0   Unnamed: 0   12500 non-null  int64  \n",
      " 1   Bien         12500 non-null  object \n",
      " 2   Pieces       12456 non-null  float64\n",
      " 3   Taille       12403 non-null  float64\n",
      " 4   Prix         12500 non-null  object \n",
      " 5   Ville        11292 non-null  object \n",
      " 6   Code_Postal  12498 non-null  float64\n",
      " 7   Annonceur    12500 non-null  object \n",
      " 8   Description  12500 non-null  object \n",
      "dtypes: float64(3), int64(1), object(5)\n",
      "memory usage: 879.0+ KB\n"
     ]
    }
   ],
   "source": [
    "bdd.info()"
   ]
  },
  {
   "cell_type": "code",
   "execution_count": 47,
   "id": "1e4e46db",
   "metadata": {},
   "outputs": [
    {
     "data": {
      "text/plain": [
       "1351"
      ]
     },
     "execution_count": 47,
     "metadata": {},
     "output_type": "execute_result"
    }
   ],
   "source": [
    "#renvoie le nombre total de valeurs manquantes\n",
    "bdd.isnull().sum().sum() "
   ]
  },
  {
   "cell_type": "code",
   "execution_count": 48,
   "id": "d43a0410",
   "metadata": {},
   "outputs": [
    {
     "data": {
      "text/plain": [
       "Unnamed: 0        0\n",
       "Bien              0\n",
       "Pieces           44\n",
       "Taille           97\n",
       "Prix              0\n",
       "Ville          1208\n",
       "Code_Postal       2\n",
       "Annonceur         0\n",
       "Description       0\n",
       "dtype: int64"
      ]
     },
     "execution_count": 48,
     "metadata": {},
     "output_type": "execute_result"
    }
   ],
   "source": [
    "#compter le nombre de valeurs manquantes.\n",
    "bdd.isnull().sum()"
   ]
  },
  {
   "cell_type": "code",
   "execution_count": 49,
   "id": "16ed3e13",
   "metadata": {},
   "outputs": [
    {
     "data": {
      "text/plain": [
       "Unnamed: 0     0.00000\n",
       "Bien           0.00000\n",
       "Pieces         0.00352\n",
       "Taille         0.00776\n",
       "Prix           0.00000\n",
       "Ville          0.09664\n",
       "Code_Postal    0.00016\n",
       "Annonceur      0.00000\n",
       "Description    0.00000\n",
       "dtype: float64"
      ]
     },
     "execution_count": 49,
     "metadata": {},
     "output_type": "execute_result"
    }
   ],
   "source": [
    "#pourcentage de valeurs manquantes\n",
    "bdd.isna().mean()"
   ]
  },
  {
   "cell_type": "code",
   "execution_count": 50,
   "id": "8b765501",
   "metadata": {},
   "outputs": [],
   "source": [
    "#drop les lignes s'il y a une valeur NaN :\n",
    "clean_bdd = bdd.dropna()"
   ]
  },
  {
   "cell_type": "code",
   "execution_count": null,
   "id": "6ae54084",
   "metadata": {},
   "outputs": [],
   "source": [
    "#drop colonne Unnamed\n",
    "clean_bdd.drop(columns=['Unnamed: 0'], inplace = True)"
   ]
  },
  {
   "cell_type": "code",
   "execution_count": 52,
   "id": "87bd560c",
   "metadata": {},
   "outputs": [
    {
     "data": {
      "text/html": [
       "<div>\n",
       "<style scoped>\n",
       "    .dataframe tbody tr th:only-of-type {\n",
       "        vertical-align: middle;\n",
       "    }\n",
       "\n",
       "    .dataframe tbody tr th {\n",
       "        vertical-align: top;\n",
       "    }\n",
       "\n",
       "    .dataframe thead th {\n",
       "        text-align: right;\n",
       "    }\n",
       "</style>\n",
       "<table border=\"1\" class=\"dataframe\">\n",
       "  <thead>\n",
       "    <tr style=\"text-align: right;\">\n",
       "      <th></th>\n",
       "      <th>Bien</th>\n",
       "      <th>Pieces</th>\n",
       "      <th>Taille</th>\n",
       "      <th>Prix</th>\n",
       "      <th>Ville</th>\n",
       "      <th>Code_Postal</th>\n",
       "      <th>Annonceur</th>\n",
       "      <th>Description</th>\n",
       "    </tr>\n",
       "  </thead>\n",
       "  <tbody>\n",
       "    <tr>\n",
       "      <th>0</th>\n",
       "      <td>Appartement</td>\n",
       "      <td>1.0</td>\n",
       "      <td>35.0</td>\n",
       "      <td>260 000</td>\n",
       "      <td>Alfortville</td>\n",
       "      <td>94140.0</td>\n",
       "      <td>Professionnel</td>\n",
       "      <td>Superbe studio spacieux et fonctionnel hyper c...</td>\n",
       "    </tr>\n",
       "    <tr>\n",
       "      <th>1</th>\n",
       "      <td>Maison</td>\n",
       "      <td>3.0</td>\n",
       "      <td>66.0</td>\n",
       "      <td>140 000</td>\n",
       "      <td>Beton-Bazoches</td>\n",
       "      <td>77320.0</td>\n",
       "      <td>Professionnel</td>\n",
       "      <td>Maison familiale 3 pièces avec cheminée. maiso...</td>\n",
       "    </tr>\n",
       "    <tr>\n",
       "      <th>2</th>\n",
       "      <td>Maison</td>\n",
       "      <td>4.0</td>\n",
       "      <td>179.0</td>\n",
       "      <td>222 000</td>\n",
       "      <td>La Ferté-sous-Jouarre</td>\n",
       "      <td>77260.0</td>\n",
       "      <td>Professionnel</td>\n",
       "      <td>Atypique maison briarde, logement à l'étage av...</td>\n",
       "    </tr>\n",
       "    <tr>\n",
       "      <th>3</th>\n",
       "      <td>Appartement</td>\n",
       "      <td>3.0</td>\n",
       "      <td>70.0</td>\n",
       "      <td>475 000</td>\n",
       "      <td>Bezons</td>\n",
       "      <td>95870.0</td>\n",
       "      <td>Professionnel</td>\n",
       "      <td>Appartement 3 pièces. appartement t3 récent de...</td>\n",
       "    </tr>\n",
       "    <tr>\n",
       "      <th>4</th>\n",
       "      <td>Maison</td>\n",
       "      <td>7.0</td>\n",
       "      <td>185.0</td>\n",
       "      <td>1 200 000</td>\n",
       "      <td>La Celle-Saint-Cloud</td>\n",
       "      <td>78170.0</td>\n",
       "      <td>Professionnel</td>\n",
       "      <td>Maison la celle saint cloud 7 pièce(s) 185 m2....</td>\n",
       "    </tr>\n",
       "  </tbody>\n",
       "</table>\n",
       "</div>"
      ],
      "text/plain": [
       "          Bien  Pieces  Taille        Prix                  Ville  \\\n",
       "0  Appartement     1.0    35.0    260 000             Alfortville   \n",
       "1       Maison     3.0    66.0    140 000          Beton-Bazoches   \n",
       "2       Maison     4.0   179.0    222 000   La Ferté-sous-Jouarre   \n",
       "3  Appartement     3.0    70.0    475 000                  Bezons   \n",
       "4       Maison     7.0   185.0  1 200 000    La Celle-Saint-Cloud   \n",
       "\n",
       "   Code_Postal      Annonceur  \\\n",
       "0      94140.0  Professionnel   \n",
       "1      77320.0  Professionnel   \n",
       "2      77260.0  Professionnel   \n",
       "3      95870.0  Professionnel   \n",
       "4      78170.0  Professionnel   \n",
       "\n",
       "                                         Description  \n",
       "0  Superbe studio spacieux et fonctionnel hyper c...  \n",
       "1  Maison familiale 3 pièces avec cheminée. maiso...  \n",
       "2  Atypique maison briarde, logement à l'étage av...  \n",
       "3  Appartement 3 pièces. appartement t3 récent de...  \n",
       "4  Maison la celle saint cloud 7 pièce(s) 185 m2....  "
      ]
     },
     "execution_count": 52,
     "metadata": {},
     "output_type": "execute_result"
    }
   ],
   "source": [
    "clean_bdd.head()"
   ]
  },
  {
   "cell_type": "code",
   "execution_count": 53,
   "id": "de3a01d0",
   "metadata": {},
   "outputs": [],
   "source": [
    "#removes duplicate rows based on all columns\n",
    "bdd_duplicates = clean_bdd.drop_duplicates()"
   ]
  },
  {
   "cell_type": "code",
   "execution_count": null,
   "id": "a3cb9454",
   "metadata": {},
   "outputs": [],
   "source": [
    "#bdd_duplicates = bdd_duplicates.replace([np.inf, -np.inf], np.nan)\n",
    "bdd_duplicates['Prix'] = bdd_duplicates['Prix'].str.replace(' ', '')"
   ]
  },
  {
   "cell_type": "code",
   "execution_count": 55,
   "id": "c2321ab5",
   "metadata": {},
   "outputs": [
    {
     "data": {
      "text/plain": [
       "Bien            object\n",
       "Pieces         float64\n",
       "Taille         float64\n",
       "Prix            object\n",
       "Ville           object\n",
       "Code_Postal    float64\n",
       "Annonceur       object\n",
       "Description     object\n",
       "dtype: object"
      ]
     },
     "execution_count": 55,
     "metadata": {},
     "output_type": "execute_result"
    }
   ],
   "source": [
    "bdd_duplicates.dtypes"
   ]
  },
  {
   "cell_type": "code",
   "execution_count": 56,
   "id": "07fcde8b",
   "metadata": {},
   "outputs": [
    {
     "data": {
      "text/html": [
       "<div>\n",
       "<style scoped>\n",
       "    .dataframe tbody tr th:only-of-type {\n",
       "        vertical-align: middle;\n",
       "    }\n",
       "\n",
       "    .dataframe tbody tr th {\n",
       "        vertical-align: top;\n",
       "    }\n",
       "\n",
       "    .dataframe thead th {\n",
       "        text-align: right;\n",
       "    }\n",
       "</style>\n",
       "<table border=\"1\" class=\"dataframe\">\n",
       "  <thead>\n",
       "    <tr style=\"text-align: right;\">\n",
       "      <th></th>\n",
       "      <th>Bien</th>\n",
       "      <th>Pieces</th>\n",
       "      <th>Taille</th>\n",
       "      <th>Prix</th>\n",
       "      <th>Ville</th>\n",
       "      <th>Code_Postal</th>\n",
       "      <th>Annonceur</th>\n",
       "      <th>Description</th>\n",
       "    </tr>\n",
       "  </thead>\n",
       "  <tbody>\n",
       "    <tr>\n",
       "      <th>0</th>\n",
       "      <td>Appartement</td>\n",
       "      <td>1.0</td>\n",
       "      <td>35.0</td>\n",
       "      <td>260000</td>\n",
       "      <td>Alfortville</td>\n",
       "      <td>94140.0</td>\n",
       "      <td>Professionnel</td>\n",
       "      <td>Superbe studio spacieux et fonctionnel hyper c...</td>\n",
       "    </tr>\n",
       "    <tr>\n",
       "      <th>1</th>\n",
       "      <td>Maison</td>\n",
       "      <td>3.0</td>\n",
       "      <td>66.0</td>\n",
       "      <td>140000</td>\n",
       "      <td>Beton-Bazoches</td>\n",
       "      <td>77320.0</td>\n",
       "      <td>Professionnel</td>\n",
       "      <td>Maison familiale 3 pièces avec cheminée. maiso...</td>\n",
       "    </tr>\n",
       "    <tr>\n",
       "      <th>2</th>\n",
       "      <td>Maison</td>\n",
       "      <td>4.0</td>\n",
       "      <td>179.0</td>\n",
       "      <td>222000</td>\n",
       "      <td>La Ferté-sous-Jouarre</td>\n",
       "      <td>77260.0</td>\n",
       "      <td>Professionnel</td>\n",
       "      <td>Atypique maison briarde, logement à l'étage av...</td>\n",
       "    </tr>\n",
       "    <tr>\n",
       "      <th>3</th>\n",
       "      <td>Appartement</td>\n",
       "      <td>3.0</td>\n",
       "      <td>70.0</td>\n",
       "      <td>475000</td>\n",
       "      <td>Bezons</td>\n",
       "      <td>95870.0</td>\n",
       "      <td>Professionnel</td>\n",
       "      <td>Appartement 3 pièces. appartement t3 récent de...</td>\n",
       "    </tr>\n",
       "    <tr>\n",
       "      <th>4</th>\n",
       "      <td>Maison</td>\n",
       "      <td>7.0</td>\n",
       "      <td>185.0</td>\n",
       "      <td>1200000</td>\n",
       "      <td>La Celle-Saint-Cloud</td>\n",
       "      <td>78170.0</td>\n",
       "      <td>Professionnel</td>\n",
       "      <td>Maison la celle saint cloud 7 pièce(s) 185 m2....</td>\n",
       "    </tr>\n",
       "  </tbody>\n",
       "</table>\n",
       "</div>"
      ],
      "text/plain": [
       "          Bien  Pieces  Taille     Prix                  Ville  Code_Postal  \\\n",
       "0  Appartement     1.0    35.0   260000            Alfortville      94140.0   \n",
       "1       Maison     3.0    66.0   140000         Beton-Bazoches      77320.0   \n",
       "2       Maison     4.0   179.0   222000  La Ferté-sous-Jouarre      77260.0   \n",
       "3  Appartement     3.0    70.0   475000                 Bezons      95870.0   \n",
       "4       Maison     7.0   185.0  1200000   La Celle-Saint-Cloud      78170.0   \n",
       "\n",
       "       Annonceur                                        Description  \n",
       "0  Professionnel  Superbe studio spacieux et fonctionnel hyper c...  \n",
       "1  Professionnel  Maison familiale 3 pièces avec cheminée. maiso...  \n",
       "2  Professionnel  Atypique maison briarde, logement à l'étage av...  \n",
       "3  Professionnel  Appartement 3 pièces. appartement t3 récent de...  \n",
       "4  Professionnel  Maison la celle saint cloud 7 pièce(s) 185 m2....  "
      ]
     },
     "execution_count": 56,
     "metadata": {},
     "output_type": "execute_result"
    }
   ],
   "source": [
    "bdd_duplicates.head()"
   ]
  },
  {
   "cell_type": "code",
   "execution_count": 57,
   "id": "55c13f12",
   "metadata": {},
   "outputs": [
    {
     "data": {
      "text/plain": [
       "Bien            object\n",
       "Pieces         float64\n",
       "Taille         float64\n",
       "Prix            object\n",
       "Ville           object\n",
       "Code_Postal    float64\n",
       "Annonceur       object\n",
       "Description     object\n",
       "dtype: object"
      ]
     },
     "execution_count": 57,
     "metadata": {},
     "output_type": "execute_result"
    }
   ],
   "source": [
    "bdd_duplicates.dtypes"
   ]
  },
  {
   "cell_type": "code",
   "execution_count": null,
   "id": "6f0fe612",
   "metadata": {
    "scrolled": true
   },
   "outputs": [],
   "source": [
    "##Convert columns to numeric dtype.\n",
    "bdd_duplicates['Pieces'] = bdd_duplicates['Pieces'].astype('int')\n",
    "bdd_duplicates['Code_Postal'] = bdd_duplicates['Code_Postal'].astype('int')"
   ]
  },
  {
   "cell_type": "code",
   "execution_count": null,
   "id": "9f544219",
   "metadata": {},
   "outputs": [],
   "source": [
    "bdd_duplicates['Prix'] = bdd_duplicates['Prix'].convert_dtypes()"
   ]
  },
  {
   "cell_type": "code",
   "execution_count": null,
   "id": "684d62ad",
   "metadata": {},
   "outputs": [],
   "source": [
    "bdd_duplicates['Prix'] = pd.to_numeric(bdd_duplicates['Prix'], errors='coerce').convert_dtypes()"
   ]
  },
  {
   "cell_type": "code",
   "execution_count": 61,
   "id": "43e073b7",
   "metadata": {},
   "outputs": [
    {
     "data": {
      "text/plain": [
       "Bien            object\n",
       "Pieces           int32\n",
       "Taille         float64\n",
       "Prix             Int64\n",
       "Ville           object\n",
       "Code_Postal      int32\n",
       "Annonceur       object\n",
       "Description     object\n",
       "dtype: object"
      ]
     },
     "execution_count": 61,
     "metadata": {},
     "output_type": "execute_result"
    }
   ],
   "source": [
    "bdd_duplicates.dtypes"
   ]
  },
  {
   "cell_type": "markdown",
   "id": "c871dca6",
   "metadata": {},
   "source": [
    "**DataFrame propre pour la Visualisation**"
   ]
  },
  {
   "cell_type": "code",
   "execution_count": 25,
   "id": "611dd997",
   "metadata": {},
   "outputs": [],
   "source": [
    "bdd_duplicates.to_csv('paruvendu_visu.csv')"
   ]
  },
  {
   "cell_type": "markdown",
   "id": "1b29d2d5",
   "metadata": {},
   "source": [
    "**DataFrames propres for BDD**"
   ]
  },
  {
   "cell_type": "markdown",
   "id": "bb350b23",
   "metadata": {},
   "source": [
    "_Table Bien_"
   ]
  },
  {
   "cell_type": "code",
   "execution_count": 26,
   "id": "95973733",
   "metadata": {},
   "outputs": [],
   "source": [
    "bien_col = ['Pieces','Taille','Prix','Description']"
   ]
  },
  {
   "cell_type": "code",
   "execution_count": 27,
   "id": "a6831bdf",
   "metadata": {},
   "outputs": [],
   "source": [
    "bien_df = bdd_duplicates[bien_col]"
   ]
  },
  {
   "cell_type": "code",
   "execution_count": 28,
   "id": "304800da",
   "metadata": {},
   "outputs": [
    {
     "data": {
      "text/html": [
       "<div>\n",
       "<style scoped>\n",
       "    .dataframe tbody tr th:only-of-type {\n",
       "        vertical-align: middle;\n",
       "    }\n",
       "\n",
       "    .dataframe tbody tr th {\n",
       "        vertical-align: top;\n",
       "    }\n",
       "\n",
       "    .dataframe thead th {\n",
       "        text-align: right;\n",
       "    }\n",
       "</style>\n",
       "<table border=\"1\" class=\"dataframe\">\n",
       "  <thead>\n",
       "    <tr style=\"text-align: right;\">\n",
       "      <th></th>\n",
       "      <th>Pieces</th>\n",
       "      <th>Taille</th>\n",
       "      <th>Prix</th>\n",
       "      <th>Description</th>\n",
       "    </tr>\n",
       "  </thead>\n",
       "  <tbody>\n",
       "    <tr>\n",
       "      <th>0</th>\n",
       "      <td>1</td>\n",
       "      <td>35.0</td>\n",
       "      <td>260000</td>\n",
       "      <td>Superbe studio spacieux et fonctionnel hyper c...</td>\n",
       "    </tr>\n",
       "    <tr>\n",
       "      <th>1</th>\n",
       "      <td>3</td>\n",
       "      <td>66.0</td>\n",
       "      <td>140000</td>\n",
       "      <td>Maison familiale 3 pièces avec cheminée. maiso...</td>\n",
       "    </tr>\n",
       "    <tr>\n",
       "      <th>2</th>\n",
       "      <td>4</td>\n",
       "      <td>179.0</td>\n",
       "      <td>222000</td>\n",
       "      <td>Atypique maison briarde, logement à l'étage av...</td>\n",
       "    </tr>\n",
       "    <tr>\n",
       "      <th>3</th>\n",
       "      <td>3</td>\n",
       "      <td>70.0</td>\n",
       "      <td>475000</td>\n",
       "      <td>Appartement 3 pièces. appartement t3 récent de...</td>\n",
       "    </tr>\n",
       "    <tr>\n",
       "      <th>4</th>\n",
       "      <td>7</td>\n",
       "      <td>185.0</td>\n",
       "      <td>1200000</td>\n",
       "      <td>Maison la celle saint cloud 7 pièce(s) 185 m2....</td>\n",
       "    </tr>\n",
       "  </tbody>\n",
       "</table>\n",
       "</div>"
      ],
      "text/plain": [
       "   Pieces  Taille     Prix                                        Description\n",
       "0       1    35.0   260000  Superbe studio spacieux et fonctionnel hyper c...\n",
       "1       3    66.0   140000  Maison familiale 3 pièces avec cheminée. maiso...\n",
       "2       4   179.0   222000  Atypique maison briarde, logement à l'étage av...\n",
       "3       3    70.0   475000  Appartement 3 pièces. appartement t3 récent de...\n",
       "4       7   185.0  1200000  Maison la celle saint cloud 7 pièce(s) 185 m2...."
      ]
     },
     "execution_count": 28,
     "metadata": {},
     "output_type": "execute_result"
    }
   ],
   "source": [
    "bien_df.head()"
   ]
  },
  {
   "cell_type": "code",
   "execution_count": 29,
   "id": "1cf7e806",
   "metadata": {},
   "outputs": [],
   "source": [
    "bien_df.to_csv('bien_bdd.csv')"
   ]
  },
  {
   "cell_type": "markdown",
   "id": "c4177d49",
   "metadata": {},
   "source": [
    "_Table Localisation_"
   ]
  },
  {
   "cell_type": "code",
   "execution_count": 30,
   "id": "033ffef4",
   "metadata": {},
   "outputs": [],
   "source": [
    "loc_col = ['Ville','Code_Postal']"
   ]
  },
  {
   "cell_type": "code",
   "execution_count": 31,
   "id": "5529e4fe",
   "metadata": {},
   "outputs": [],
   "source": [
    "loc_df = bdd_duplicates[loc_col]"
   ]
  },
  {
   "cell_type": "code",
   "execution_count": 32,
   "id": "994fd739",
   "metadata": {},
   "outputs": [
    {
     "data": {
      "text/html": [
       "<div>\n",
       "<style scoped>\n",
       "    .dataframe tbody tr th:only-of-type {\n",
       "        vertical-align: middle;\n",
       "    }\n",
       "\n",
       "    .dataframe tbody tr th {\n",
       "        vertical-align: top;\n",
       "    }\n",
       "\n",
       "    .dataframe thead th {\n",
       "        text-align: right;\n",
       "    }\n",
       "</style>\n",
       "<table border=\"1\" class=\"dataframe\">\n",
       "  <thead>\n",
       "    <tr style=\"text-align: right;\">\n",
       "      <th></th>\n",
       "      <th>Ville</th>\n",
       "      <th>Code_Postal</th>\n",
       "    </tr>\n",
       "  </thead>\n",
       "  <tbody>\n",
       "    <tr>\n",
       "      <th>0</th>\n",
       "      <td>Alfortville</td>\n",
       "      <td>94140</td>\n",
       "    </tr>\n",
       "    <tr>\n",
       "      <th>1</th>\n",
       "      <td>Beton-Bazoches</td>\n",
       "      <td>77320</td>\n",
       "    </tr>\n",
       "    <tr>\n",
       "      <th>2</th>\n",
       "      <td>La Ferté-sous-Jouarre</td>\n",
       "      <td>77260</td>\n",
       "    </tr>\n",
       "    <tr>\n",
       "      <th>3</th>\n",
       "      <td>Bezons</td>\n",
       "      <td>95870</td>\n",
       "    </tr>\n",
       "    <tr>\n",
       "      <th>4</th>\n",
       "      <td>La Celle-Saint-Cloud</td>\n",
       "      <td>78170</td>\n",
       "    </tr>\n",
       "  </tbody>\n",
       "</table>\n",
       "</div>"
      ],
      "text/plain": [
       "                   Ville  Code_Postal\n",
       "0            Alfortville        94140\n",
       "1         Beton-Bazoches        77320\n",
       "2  La Ferté-sous-Jouarre        77260\n",
       "3                 Bezons        95870\n",
       "4   La Celle-Saint-Cloud        78170"
      ]
     },
     "execution_count": 32,
     "metadata": {},
     "output_type": "execute_result"
    }
   ],
   "source": [
    "loc_df.head()"
   ]
  },
  {
   "cell_type": "code",
   "execution_count": 33,
   "id": "1828ddec",
   "metadata": {},
   "outputs": [],
   "source": [
    "loc_df.to_csv('loc_bdd.csv')"
   ]
  },
  {
   "cell_type": "markdown",
   "id": "c83cb81d",
   "metadata": {},
   "source": [
    "_Table Annonceur_"
   ]
  },
  {
   "cell_type": "code",
   "execution_count": 34,
   "id": "3c81466b",
   "metadata": {},
   "outputs": [],
   "source": [
    "ann_df = bdd_duplicates[[\"Annonceur\"]]"
   ]
  },
  {
   "cell_type": "code",
   "execution_count": 35,
   "id": "0963bb56",
   "metadata": {},
   "outputs": [
    {
     "data": {
      "text/html": [
       "<div>\n",
       "<style scoped>\n",
       "    .dataframe tbody tr th:only-of-type {\n",
       "        vertical-align: middle;\n",
       "    }\n",
       "\n",
       "    .dataframe tbody tr th {\n",
       "        vertical-align: top;\n",
       "    }\n",
       "\n",
       "    .dataframe thead th {\n",
       "        text-align: right;\n",
       "    }\n",
       "</style>\n",
       "<table border=\"1\" class=\"dataframe\">\n",
       "  <thead>\n",
       "    <tr style=\"text-align: right;\">\n",
       "      <th></th>\n",
       "      <th>Annonceur</th>\n",
       "    </tr>\n",
       "  </thead>\n",
       "  <tbody>\n",
       "    <tr>\n",
       "      <th>0</th>\n",
       "      <td>Professionnel</td>\n",
       "    </tr>\n",
       "    <tr>\n",
       "      <th>1</th>\n",
       "      <td>Professionnel</td>\n",
       "    </tr>\n",
       "    <tr>\n",
       "      <th>2</th>\n",
       "      <td>Professionnel</td>\n",
       "    </tr>\n",
       "    <tr>\n",
       "      <th>3</th>\n",
       "      <td>Professionnel</td>\n",
       "    </tr>\n",
       "    <tr>\n",
       "      <th>4</th>\n",
       "      <td>Professionnel</td>\n",
       "    </tr>\n",
       "  </tbody>\n",
       "</table>\n",
       "</div>"
      ],
      "text/plain": [
       "       Annonceur\n",
       "0  Professionnel\n",
       "1  Professionnel\n",
       "2  Professionnel\n",
       "3  Professionnel\n",
       "4  Professionnel"
      ]
     },
     "execution_count": 35,
     "metadata": {},
     "output_type": "execute_result"
    }
   ],
   "source": [
    "ann_df.head()"
   ]
  },
  {
   "cell_type": "code",
   "execution_count": 36,
   "id": "a7c613b6",
   "metadata": {},
   "outputs": [],
   "source": [
    "ann_df.to_csv('annonceur_bdd.csv')"
   ]
  }
 ],
 "metadata": {
  "kernelspec": {
   "display_name": "Python 3 (ipykernel)",
   "language": "python",
   "name": "python3"
  },
  "language_info": {
   "codemirror_mode": {
    "name": "ipython",
    "version": 3
   },
   "file_extension": ".py",
   "mimetype": "text/x-python",
   "name": "python",
   "nbconvert_exporter": "python",
   "pygments_lexer": "ipython3",
   "version": "3.9.12"
  }
 },
 "nbformat": 4,
 "nbformat_minor": 5
}
